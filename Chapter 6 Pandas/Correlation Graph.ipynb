{
 "cells": [
  {
   "cell_type": "code",
   "execution_count": null,
   "source": [
    "%matplotlib inline\n",
    "import pandas as pd\n",
    "\n",
    "\n",
    "def get_returns(file):\n",
    "    \"\"\"\n",
    "    This function get_data reads a data file from disk\n",
    "    and returns percentage returns.\n",
    "    \"\"\"\n",
    "    return pd.read_csv(file + \".csv\", index_col=0, parse_dates=True).pct_change()\n",
    "\n",
    "\n",
    "# Get the S&P time series from disk\n",
    "df = get_returns(\"sp500\")\n",
    "\n",
    "# Add a column for the Nasdaq\n",
    "df[\"NDX\"] = get_returns(\"ndx\")\n",
    "\n",
    "# Calculate correlations, plot the last 200 data points.\n",
    "df[\"SP500\"].rolling(50).corr(df[\"NDX\"])[-200:].plot()"
   ],
   "outputs": [],
   "metadata": {}
  }
 ],
 "metadata": {
  "kernelspec": {
   "name": "python3",
   "display_name": "Python 3.8.10 64-bit ('zl_py38': conda)"
  },
  "language_info": {
   "codemirror_mode": {
    "name": "ipython",
    "version": 3
   },
   "file_extension": ".py",
   "mimetype": "text/x-python",
   "name": "python",
   "nbconvert_exporter": "python",
   "pygments_lexer": "ipython3",
   "version": "3.8.10"
  },
  "interpreter": {
   "hash": "01a7fb867367c74530c9df2a854f61c57dce9c9d12056943b65537a4784f7f25"
  }
 },
 "nbformat": 4,
 "nbformat_minor": 2
}